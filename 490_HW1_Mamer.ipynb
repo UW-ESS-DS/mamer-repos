{
 "cells": [
  {
   "cell_type": "markdown",
   "metadata": {},
   "source": [
    "# Hi Everyone! \n",
    "<img src=\"Documents/Photos/JezeroCrater_ESA.jpg\" width=\"200\"/>"
   ]
  },
  {
   "cell_type": "code",
   "execution_count": 3,
   "metadata": {},
   "outputs": [
    {
     "name": "stdout",
     "output_type": "stream",
     "text": [
      "Here's my favorite image of Jezero Crater, taken by ESA's Mars Express orbiter :)\n"
     ]
    }
   ],
   "source": [
    "print(\"Here's my favorite image of Jezero Crater, taken by ESA's Mars Express orbiter :)\")"
   ]
  }
 ],
 "metadata": {
  "kernelspec": {
   "display_name": "Python 3",
   "language": "python",
   "name": "python3"
  },
  "language_info": {
   "codemirror_mode": {
    "name": "ipython",
    "version": 3
   },
   "file_extension": ".py",
   "mimetype": "text/x-python",
   "name": "python",
   "nbconvert_exporter": "python",
   "pygments_lexer": "ipython3",
   "version": "3.8.5"
  }
 },
 "nbformat": 4,
 "nbformat_minor": 4
}
